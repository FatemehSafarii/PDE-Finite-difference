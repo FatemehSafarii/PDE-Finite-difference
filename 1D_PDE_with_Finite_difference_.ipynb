{
  "nbformat": 4,
  "nbformat_minor": 0,
  "metadata": {
    "colab": {
      "provenance": [],
      "authorship_tag": "ABX9TyNUlS3yGdg/ta3v9OZc9DhI",
      "include_colab_link": true
    },
    "kernelspec": {
      "name": "python3",
      "display_name": "Python 3"
    },
    "language_info": {
      "name": "python"
    }
  },
  "cells": [
    {
      "cell_type": "markdown",
      "metadata": {
        "id": "view-in-github",
        "colab_type": "text"
      },
      "source": [
        "<a href=\"https://colab.research.google.com/github/FatemehSafarii/PDE-Finite-difference/blob/main/1D_PDE_with_Finite_difference_.ipynb\" target=\"_parent\"><img src=\"https://colab.research.google.com/assets/colab-badge.svg\" alt=\"Open In Colab\"/></a>"
      ]
    },
    {
      "cell_type": "code",
      "source": [
        "import numpy as np\n",
        "import matplotlib.pyplot as plt\n",
        "\n",
        "\n",
        "L = 1.0  # Length of the domain\n",
        "T = 0.1  # Total time\n",
        "nx = 100  # Number of grid points in the x direction\n",
        "nt = 1000  # Number of time steps\n",
        "alpha = 0.1  # Diffusion coefficient\n",
        "\n",
        "# Calculate the grid spacing and time step\n",
        "dx = L / (nx - 1)\n",
        "dt = T / nt\n",
        "\n",
        "\n",
        "x = np.linspace(0.0, L, nx)\n",
        "\n",
        "\n",
        "u = np.zeros(nx)\n",
        "\n",
        "\n",
        "u[:] = 1.0  # Initial value of u(x, 0)\n",
        "\n",
        "# Get the PDE equation from the user\n",
        "pde_equation = input(\"Enter the 1D PDE equation: \")\n",
        "\n",
        "\n",
        "for n in range(nt):\n",
        "    un = u.copy()\n",
        "\n",
        "    # Update the solution at the this time step\n",
        "    for i in range(1, nx - 1):\n",
        "        eval_result = eval(pde_equation)\n",
        "        u[i] = un[i] + eval_result * dt\n",
        "\n",
        "# Plot the final solution\n",
        "plt.plot(x, u)\n",
        "plt.xlabel('x')\n",
        "plt.ylabel('u(x, t=T)')\n",
        "plt.title('Solution of the 1D Diffusion Equation using FDM')\n",
        "plt.show()\n"
      ],
      "metadata": {
        "id": "7-TdgXaASuZP"
      },
      "execution_count": null,
      "outputs": []
    }
  ]
}